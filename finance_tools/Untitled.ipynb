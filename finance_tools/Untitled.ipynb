{
 "cells": [
  {
   "cell_type": "code",
   "execution_count": 1,
   "id": "cb97d804-c008-468c-9942-408756f2fb12",
   "metadata": {},
   "outputs": [],
   "source": [
    "code = '''\n",
    "from finance_tools.tax import calculate_tax\n",
    "from finance_tools.loan import calculate_emi\n",
    "\n",
    "def main():\n",
    "    print(\"Welcome to Finance App!\")\n",
    "\n",
    "    income = float(input(\"Enter your annual income: \"))\n",
    "    tax_rate = float(input(\"Enter tax rate (e.g., 0.1 for 10%): \"))\n",
    "    tax = calculate_tax(income, tax_rate)\n",
    "    print(f\"Your tax to pay: Rs.{tax:.2f}\")\n",
    "\n",
    "    principal = float(input(\"Enter loan principal amount: \"))\n",
    "    annual_rate = float(input(\"Enter annual interest rate (e.g., 0.08 for 8%): \"))\n",
    "    years = int(input(\"Enter loan tenure in years: \"))\n",
    "    emi = calculate_emi(principal, annual_rate, years)\n",
    "    print(f\"Your monthly EMI: Rs.{emi:.2f}\")\n",
    "\n",
    "if __name__ == \"__main__\":\n",
    "    main()\n",
    "'''\n",
    "\n",
    "with open(\"main.py\", \"w\") as f:\n",
    "    f.write(code)\n"
   ]
  },
  {
   "cell_type": "code",
   "execution_count": 2,
   "id": "95c849af-4801-4821-9683-880dbb4bdde5",
   "metadata": {},
   "outputs": [
    {
     "name": "stdout",
     "output_type": "stream",
     "text": [
      "Traceback (most recent call last):\n",
      "  File \u001b[35m\"/Users/preeti/DSML-class/Assignment/finance_tools/main.py\"\u001b[0m, line \u001b[35m2\u001b[0m, in \u001b[35m<module>\u001b[0m\n",
      "    from finance_tools.tax import calculate_tax\n",
      "\u001b[1;35mModuleNotFoundError\u001b[0m: \u001b[35mNo module named 'finance_tools'\u001b[0m\n"
     ]
    }
   ],
   "source": [
    "!python3 main.py"
   ]
  },
  {
   "cell_type": "code",
   "execution_count": 3,
   "id": "787e6342-a0b1-4930-b8a4-7e688131182d",
   "metadata": {},
   "outputs": [
    {
     "name": "stdout",
     "output_type": "stream",
     "text": [
      "Current directory: /Users/preeti/DSML-class/Assignment/finance_tools\n",
      "Contents here: ['tax.py', 'Untitled.ipynb', '__init__.py', 'loan.py', '.ipynb_checkpoints', 'main.py']\n"
     ]
    }
   ],
   "source": [
    "import os\n",
    "print(\"Current directory:\", os.getcwd())\n",
    "print(\"Contents here:\", os.listdir())\n"
   ]
  },
  {
   "cell_type": "code",
   "execution_count": 4,
   "id": "473494bf-d0d6-4288-a5d7-b49cad337203",
   "metadata": {},
   "outputs": [
    {
     "data": {
      "text/plain": [
       "'../Untitled.ipynb'"
      ]
     },
     "execution_count": 4,
     "metadata": {},
     "output_type": "execute_result"
    }
   ],
   "source": [
    "import shutil\n",
    "import os\n",
    "\n",
    "# Move main.py one level up\n",
    "shutil.move(\"main.py\", \"../main.py\")\n",
    "\n",
    "# Move notebook (replace 'your_notebook.ipynb' with your actual notebook filename)\n",
    "shutil.move(\"Untitled.ipynb\", \"../Untitled.ipynb\")\n",
    "\n"
   ]
  },
  {
   "cell_type": "code",
   "execution_count": 5,
   "id": "4851349b-5b58-4247-8c9c-e959b8fc54c2",
   "metadata": {},
   "outputs": [],
   "source": [
    "import shutil\n",
    "import os\n",
    "\n",
    "# Move main.py to parent folder\n",
    "if os.path.exists(\"main.py\"):\n",
    "    shutil.move(\"main.py\", \"../main.py\")\n",
    "    print(\"Moved main.py to parent folder\")\n",
    "\n",
    "# Replace 'Untitled.ipynb' with your actual notebook filename if different\n",
    "notebook_name = \"Untitled.ipynb\"\n",
    "if os.path.exists(notebook_name):\n",
    "    shutil.move(notebook_name, f\"../{notebook_name}\")\n",
    "    print(f\"Moved {notebook_name} to parent folder\")\n"
   ]
  },
  {
   "cell_type": "code",
   "execution_count": null,
   "id": "bb4ca7d5-3d14-4043-9c6d-db9e99399f2b",
   "metadata": {},
   "outputs": [],
   "source": []
  }
 ],
 "metadata": {
  "kernelspec": {
   "display_name": "Python 3 (ipykernel)",
   "language": "python",
   "name": "python3"
  },
  "language_info": {
   "codemirror_mode": {
    "name": "ipython",
    "version": 3
   },
   "file_extension": ".py",
   "mimetype": "text/x-python",
   "name": "python",
   "nbconvert_exporter": "python",
   "pygments_lexer": "ipython3",
   "version": "3.13.5"
  }
 },
 "nbformat": 4,
 "nbformat_minor": 5
}
