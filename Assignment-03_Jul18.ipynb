{
 "cells": [
  {
   "cell_type": "markdown",
   "id": "119ef6a9",
   "metadata": {},
   "source": [
    "### Math Tutor Using Random, Arithmetic Operators, and OOP\n",
    "\n",
    "*Scenario:*\n",
    "Create a `MathTutor` class that generates random math questions using `random` and `math operators`.\n",
    "\n",
    "* Track correct and incorrect answers.\n",
    "* Provide a score at the end.\n",
    "* Handle invalid input using exception handling.\n",
    "\n",
    "> Concepts: Random, Math, Exception Handling, Classes"
   ]
  },
  {
   "cell_type": "code",
   "execution_count": 85,
   "id": "77dc396f",
   "metadata": {},
   "outputs": [
    {
     "name": "stdout",
     "output_type": "stream",
     "text": [
      "Welcome to Math Tutor!\n"
     ]
    },
    {
     "name": "stdin",
     "output_type": "stream",
     "text": [
      "Q1: What is 16 - 12?  4\n"
     ]
    },
    {
     "name": "stdout",
     "output_type": "stream",
     "text": [
      "Correct!\n",
      "\n"
     ]
    },
    {
     "name": "stdin",
     "output_type": "stream",
     "text": [
      "Q2: What is 17 - 8?  9\n"
     ]
    },
    {
     "name": "stdout",
     "output_type": "stream",
     "text": [
      "Correct!\n",
      "\n"
     ]
    },
    {
     "name": "stdin",
     "output_type": "stream",
     "text": [
      "Q3: What is 3 - 5?  -2\n"
     ]
    },
    {
     "name": "stdout",
     "output_type": "stream",
     "text": [
      "Correct!\n",
      "\n"
     ]
    },
    {
     "name": "stdin",
     "output_type": "stream",
     "text": [
      "Q4: What is 9 - 8?  1\n"
     ]
    },
    {
     "name": "stdout",
     "output_type": "stream",
     "text": [
      "Correct!\n",
      "\n"
     ]
    },
    {
     "name": "stdin",
     "output_type": "stream",
     "text": [
      "Q5: What is 9 - 13?  -4\n"
     ]
    },
    {
     "name": "stdout",
     "output_type": "stream",
     "text": [
      "Correct!\n",
      "\n",
      "Quiz finished!\n",
      "Correct answers: 5\n",
      "Incorrect answers: 0\n",
      "Score: 5/5 (100.00%)\n"
     ]
    }
   ],
   "source": [
    "# Your Solution Here\n",
    "import random\n",
    "\n",
    "class MathTutor:\n",
    "    def __init__(self, num_questions=5):\n",
    "        self.num_questions = num_questions\n",
    "        self.correct = 0\n",
    "        self.incorrect = 0\n",
    "        self.operators = ['+', '-', '*', '/']\n",
    "\n",
    "    def generate_question(self):\n",
    "        num1 = random.randint(1, 20)\n",
    "        num2 = random.randint(1, 20)\n",
    "        operator = random.choice(self.operators)\n",
    "\n",
    "        if operator == '/':\n",
    "            while num2 == 0:\n",
    "                num2 = random.randint(1, 20)\n",
    "\n",
    "        question = f\"{num1} {operator} {num2}\"\n",
    "        answer = round(eval(question), 2)\n",
    "        return question, answer\n",
    "\n",
    "    def start_quiz(self):\n",
    "        print(\"Welcome to Math Tutor!\")\n",
    "        for i in range(1, self.num_questions + 1):\n",
    "            question, correct_answer = self.generate_question()\n",
    "            while True:\n",
    "                try:\n",
    "                    user_input = input(f\"Q{i}: What is {question}? \")\n",
    "                    user_answer = float(user_input)\n",
    "                    break\n",
    "                except ValueError:\n",
    "                    print(\"Invalid input! Please enter a valid number.\")\n",
    "\n",
    "            if abs(user_answer - correct_answer) < 0.01:\n",
    "                print(\"Correct!\\n\")\n",
    "                self.correct += 1\n",
    "            else:\n",
    "                print(f\"Incorrect! The correct answer is {correct_answer}\\n\")\n",
    "                self.incorrect += 1\n",
    "\n",
    "        self.show_score()\n",
    "\n",
    "    def show_score(self):\n",
    "        print(\"Quiz finished!\")\n",
    "        print(f\"Correct answers: {self.correct}\")\n",
    "        print(f\"Incorrect answers: {self.incorrect}\")\n",
    "        total = self.correct + self.incorrect\n",
    "        print(f\"Score: {self.correct}/{total} ({(self.correct/total)*100:.2f}%)\")\n",
    "4\n",
    "tutor = MathTutor(num_questions=5)\n",
    "tutor.start_quiz()\n"
   ]
  },
  {
   "cell_type": "markdown",
   "id": "360b4034",
   "metadata": {},
   "source": [
    "### Multi-file Project Using Modules and Packages\n",
    "\n",
    "*Scenario:*\n",
    "You're building a small finance app.\n",
    "\n",
    "* Create a package `finance_tools` with modules: `tax.py` and `loan.py`.\n",
    "* Each module contains utility functions like `calculate_tax()` and `calculate_emi()`.\n",
    "* Import and use them in a main script that takes user input to do both.\n",
    "\n",
    "> Concepts: Packages, Modules, Importing, Separation of Concerns\n"
   ]
  },
  {
   "cell_type": "code",
   "execution_count": 1,
   "id": "fbf73825",
   "metadata": {},
   "outputs": [],
   "source": [
    "# Your Solution Here\n",
    "def calculate_tax(income, tax_rate=0.1):\n",
    "    \"\"\"\n",
    "    Calculate tax based on income and tax rate.\n",
    "    Default tax rate = 10%\n",
    "    \"\"\"\n",
    "    tax = income * tax_rate\n",
    "    return tax"
   ]
  },
  {
   "cell_type": "code",
   "execution_count": 2,
   "id": "ae59bb5b-08cd-4463-a86c-c774b5eee170",
   "metadata": {},
   "outputs": [],
   "source": [
    "def calculate_emi(principal, annual_rate, years):\n",
    "    \"\"\"\n",
    "    Calculate EMI (Equated Monthly Installment) for a loan.\n",
    "    principal: loan amount\n",
    "    annual_rate: interest rate per year in decimal (e.g. 0.08 for 8%)\n",
    "    years: loan tenure in years\n",
    "    \"\"\"\n",
    "    monthly_rate = annual_rate / 12\n",
    "    months = years * 12\n",
    "\n",
    "    emi = principal * monthly_rate * (1 + monthly_rate)**months / ((1 + monthly_rate)**months - 1)\n",
    "    return emi"
   ]
  },
  {
   "cell_type": "code",
   "execution_count": null,
   "id": "36dd2fea-8cb1-4ffe-8132-b53fe35cb920",
   "metadata": {},
   "outputs": [
    {
     "name": "stdout",
     "output_type": "stream",
     "text": [
      "Welcome to Finance App!\n"
     ]
    },
    {
     "name": "stdin",
     "output_type": "stream",
     "text": [
      "Enter your annual income:  90000\n",
      "Enter tax rate (e.g., 0.1 for 10%):  5\n"
     ]
    },
    {
     "name": "stdout",
     "output_type": "stream",
     "text": [
      "Your tax to pay: Rs.450000.00\n"
     ]
    },
    {
     "name": "stdin",
     "output_type": "stream",
     "text": [
      "Enter loan principal amount:  4\n",
      "Enter annual interest rate (e.g., 0.08 for 8%):  2\n"
     ]
    }
   ],
   "source": [
    "from finance_tools.tax import calculate_tax\n",
    "from finance_tools.loan import calculate_emi\n",
    "\n",
    "def main():\n",
    "    print(\"Welcome to Finance App!\")\n",
    "\n",
    "    income = float(input(\"Enter your annual income: \"))\n",
    "    tax_rate = float(input(\"Enter tax rate (e.g., 0.1 for 10%): \"))\n",
    "    tax = calculate_tax(income, tax_rate)\n",
    "    print(f\"Your tax to pay: Rs.{tax:.2f}\")\n",
    "\n",
    "    principal = float(input(\"Enter loan principal amount: \"))\n",
    "    annual_rate = float(input(\"Enter annual interest rate (e.g., 0.08 for 8%): \"))\n",
    "    years = int(input(\"Enter loan tenure in years: \"))\n",
    "    emi = calculate_emi(principal, annual_rate, years)\n",
    "    print(f\"Your monthly EMI: Rs.{emi:.2f}\")\n",
    "\n",
    "if __name__ == \"__main__\":\n",
    "    main()"
   ]
  },
  {
   "cell_type": "markdown",
   "id": "1ecd8aa7",
   "metadata": {},
   "source": [
    "### Exception Handling Scenario: Online Age-Restricted Service\n",
    "\n",
    "**Scenario:**\n",
    "You’re building a sign-up system for an online movie rental platform. Some movies are age-restricted (18+). You need to ensure proper validation and error handling during user registration.\n",
    "\n",
    "**Task:**\n",
    "\n",
    "1. Create a custom exception class called `UnderageError` that inherits from `Exception`.\n",
    "2. Write a function `register_user()` that:\n",
    "\n",
    "   * Takes a user’s `name` and `age` as input.\n",
    "   * Raises `UnderageError` if the user is under 18.\n",
    "   * Otherwise, prints a welcome message.\n",
    "3. Wrap the function call in a `try` block and handle the exception.\n",
    "4. Use `else` to confirm successful registration and `finally` to always print **“Thank you for using MovieTime!”** regardless of outcome.\n",
    "\n",
    "Also try to validate if the age input is numeric. Raise a `ValueError` if not, and handle it separately.\n",
    "\n"
   ]
  },
  {
   "cell_type": "code",
   "execution_count": 26,
   "id": "3fd54170",
   "metadata": {},
   "outputs": [],
   "source": [
    "# Your Solution Here\n",
    "class UnderageError(Exception):\n",
    "    pass"
   ]
  },
  {
   "cell_type": "code",
   "execution_count": 27,
   "id": "3076c1f2-3657-4499-b28a-113b7cea2cbe",
   "metadata": {},
   "outputs": [],
   "source": [
    "def register_user():\n",
    "    name = input(\"Enter your name: \")\n",
    "    age_input = input(\"Enter your age: \")\n",
    "\n",
    "    if not age_input.isdigit():\n",
    "        raise ValueError(\"Age must be a number.\")\n",
    "\n",
    "    age = int(age_input)\n",
    "\n",
    "    if age < 18:\n",
    "        raise UnderageError(\"You must be 18 or older to register.\")\n",
    "\n",
    "    print(f\"Welcome to MovieTime, {name}!\")\n"
   ]
  },
  {
   "cell_type": "code",
   "execution_count": 28,
   "id": "ed0749b1-8f29-4cca-ba49-2148c0f20b37",
   "metadata": {},
   "outputs": [
    {
     "name": "stdin",
     "output_type": "stream",
     "text": [
      "Enter your name:  preeti magar\n",
      "Enter your age:  19\n"
     ]
    },
    {
     "name": "stdout",
     "output_type": "stream",
     "text": [
      "Welcome to MovieTime, preeti magar!\n",
      " Registration successful!\n",
      " Thank you for using MovieTime!\n"
     ]
    }
   ],
   "source": [
    "try:\n",
    "    register_user()\n",
    "except UnderageError as ue:\n",
    "    print(f\" Registration failed: {ue}\")\n",
    "except ValueError as ve:\n",
    "    print(f\" Input Error: {ve}\")\n",
    "else:\n",
    "    print(\" Registration successful!\")\n",
    "finally:\n",
    "    print(\" Thank you for using MovieTime!\")\n"
   ]
  },
  {
   "cell_type": "markdown",
   "id": "7e76d9b4",
   "metadata": {},
   "source": [
    "# Problem Statement\n",
    "\n",
    "We want to build an online shopping cart system that allows users to add products to their cart, calculate the total cost, apply discounts, and generate an invoice. The system should include the following functionalities:\n",
    "\n",
    "- Adding products to the cart\n",
    "- Removing products from the cart\n",
    "- Calculating the total cost\n",
    "- Applying discounts based on user type\n",
    "- Generating an invoice\n",
    "\n",
    "### 1. Create the Product class\n",
    "\n",
    "We create a basic `Product` class with attributes for the product name and price."
   ]
  },
  {
   "cell_type": "code",
   "execution_count": 70,
   "id": "72e4884b-4f87-46cd-8be6-be4bf79f71c2",
   "metadata": {},
   "outputs": [],
   "source": [
    "class Product:\n",
    "    def __init__(self, name, price):\n",
    "        self.name = name\n",
    "        self.price = price"
   ]
  },
  {
   "cell_type": "markdown",
   "id": "0c9aa397",
   "metadata": {},
   "source": [
    "### 2.  Implement the User class\n",
    "\n",
    "In this step, we create a `User` class with attributes for the user's name and whether they are a premium member."
   ]
  },
  {
   "cell_type": "code",
   "execution_count": 71,
   "id": "3393e953",
   "metadata": {},
   "outputs": [],
   "source": [
    "# Your Solution Here\n",
    "class User:\n",
    "    def __init__(self, user_type='regular'):\n",
    "        self.user_type = user_type.lower() "
   ]
  },
  {
   "cell_type": "markdown",
   "id": "3b7e070b",
   "metadata": {},
   "source": [
    "### 3. Create the ShoppingCart class\n",
    "\n",
    "In this step, we create a `ShoppingCart` class with methods for adding and removing products from the cart, as well as calculating the total cost of the items in the cart.\n",
    "\n",
    "**Note**: Define `calculate_total_cost` method in the `ShoppingCart` class, that applies a `10%` discount to the total cost if you are `premium` User."
   ]
  },
  {
   "cell_type": "code",
   "execution_count": 72,
   "id": "c0b5196d",
   "metadata": {},
   "outputs": [],
   "source": [
    "# Your Solution Here\n",
    "class ShoppingCart:\n",
    "    def __init__(self, user):\n",
    "        self.user = user\n",
    "        self.products = []\n",
    "\n",
    "    def add_product(self, product):\n",
    "        self.products.append(product)\n",
    "        print(f\"Added {product.name} to cart.\")\n",
    "\n",
    "    def remove_product(self, product_name):\n",
    "        original_count = len(self.products)\n",
    "        self.products = [p for p in self.products if p.name != product_name]\n",
    "        if len(self.products) < original_count:\n",
    "            print(f\"Removed {product_name} from cart.\")\n",
    "        else:\n",
    "            print(f\"{product_name} not found in cart.\")"
   ]
  },
  {
   "cell_type": "markdown",
   "id": "afc26053",
   "metadata": {},
   "source": [
    "### 4. Testing the functionality\n",
    "\n",
    "Now that we have implemented the necessary classes and methods, let's test our online shopping cart system:"
   ]
  },
  {
   "cell_type": "code",
   "execution_count": 73,
   "id": "0592251e-b4f2-4256-b473-b301cc9d80dc",
   "metadata": {},
   "outputs": [],
   "source": [
    "# Your Solution Here\n",
    "class ShoppingCart:\n",
    "    def __init__(self, user):\n",
    "        self.user = user\n",
    "        self.products = []\n",
    "\n",
    "    def add_product(self, product):\n",
    "        self.products.append(product)\n",
    "\n",
    "    def calculate_total_cost(self):  # This method is indented properly inside class\n",
    "        total = sum(p.price for p in self.products)\n",
    "        if self.user.user_type == 'premium':\n",
    "            discount = total * 0.10\n",
    "            total -= discount\n",
    "            print(f\"Applied 10% premium discount: -{discount}\")\n",
    "        return total"
   ]
  },
  {
   "cell_type": "markdown",
   "id": "7ea7c96e",
   "metadata": {},
   "source": [
    "### 5. Generating Invoice for a given cart"
   ]
  },
  {
   "cell_type": "code",
   "execution_count": 74,
   "id": "c727607d-74ed-4609-bc88-3a14049c162f",
   "metadata": {},
   "outputs": [],
   "source": [
    "# Your Solution Here\n",
    "class ShoppingCart:\n",
    "    def __init__(self, user):\n",
    "        self.user = user\n",
    "        self.products = []\n",
    "\n",
    "    def generate_invoice(self):\n",
    "        print(\"\\n----- INVOICE -----\")\n",
    "        for p in self.products:\n",
    "            print(f\"{p.name}: Rs.{p.price}\")\n",
    "        total_cost = self.calculate_total_cost()\n",
    "        print(\"-------------------\")\n",
    "        print(f\"Total amount to pay: Rs.{total_cost}\")\n",
    "        print(\"-------------------\\n\")\n"
   ]
  },
  {
   "cell_type": "code",
   "execution_count": null,
   "id": "59e0bc19-36f6-4f4f-9d96-994e0dc19b59",
   "metadata": {},
   "outputs": [],
   "source": []
  },
  {
   "cell_type": "code",
   "execution_count": null,
   "id": "a9b10a9e-9d31-4b90-8b81-4066e5ea9f1c",
   "metadata": {},
   "outputs": [],
   "source": []
  }
 ],
 "metadata": {
  "kernelspec": {
   "display_name": "Python 3 (ipykernel)",
   "language": "python",
   "name": "python3"
  },
  "language_info": {
   "codemirror_mode": {
    "name": "ipython",
    "version": 3
   },
   "file_extension": ".py",
   "mimetype": "text/x-python",
   "name": "python",
   "nbconvert_exporter": "python",
   "pygments_lexer": "ipython3",
   "version": "3.13.5"
  }
 },
 "nbformat": 4,
 "nbformat_minor": 5
}
